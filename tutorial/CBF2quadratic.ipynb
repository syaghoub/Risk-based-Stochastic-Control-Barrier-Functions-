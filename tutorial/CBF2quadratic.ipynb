{
 "metadata": {
  "language_info": {
   "codemirror_mode": {
    "name": "ipython",
    "version": 3
   },
   "file_extension": ".py",
   "mimetype": "text/x-python",
   "name": "python",
   "nbconvert_exporter": "python",
   "pygments_lexer": "ipython3",
   "version": 3
  },
  "orig_nbformat": 2
 },
 "nbformat": 4,
 "nbformat_minor": 2,
 "cells": [
  {
   "source": [
    "# How to pose CBF control problem to quadric programing?\n",
    "\n",
    "Now we have control problem with CBF\n",
    "\\begin{align*}\n",
    "\\min_{u} \\quad & ||u_{ref} - u||\\\\\n",
    "\\textrm{s.t.} \\quad & \\begin{bmatrix} \\frac{2}{a^2}(x_0 - z_0) \\\\ \\frac{2}{b^2}(x_1 - z_1)\\end{bmatrix} \\dot{x} \\ge -(\\frac{(x_0-z_0)^2}{a^2} + \\frac{(x_1-z_1)^2}{b^2} - 1) \\\\\n",
    "... \\tag{12}\n",
    "\\end{align*}\n",
    "\n",
    "The cost function $||u_{ref} - u||$ is the [Euclidean distance](https://en.wikipedia.org/wiki/Euclidean_distance), and here we have two dimensions. Then,\n",
    "\\begin{align*}\n",
    "||u_{ref} - u|| &= (u_{ref0}-u_0)^2 + (u_{ref1}-u_1)^2 \\\\\n",
    "&= (u_{ref0}^2-2u_{ref0}u_0+u_0^2) + (u_{ref1}^2-2u_{ref1}u_1+u_1^2) \\\\\n",
    "&\\approx \\begin{bmatrix}u_0 & u_1\\end{bmatrix} \\begin{bmatrix}1 & 0 \\\\ 0 & 1\\end{bmatrix} \\begin{bmatrix}u_0 \\\\ u_1\\end{bmatrix} -2 \\begin{bmatrix}u_{ref0} & u_{ref1}\\end{bmatrix} \\begin{bmatrix}u_0 \\\\ u_1\\end{bmatrix} \\\\\n",
    "&= \\dot{x}^T \\begin{bmatrix}1 & 0 \\\\ 0 & 1\\end{bmatrix} \\dot{x} -2 \\begin{bmatrix}u_{ref0} \\\\ u_{ref1}\\end{bmatrix}^T \\dot{x} \\\\\n",
    "&= 2(\\frac{1}{2} \\dot{x}^T I_2 \\dot{x} + \\begin{bmatrix}-u_{ref0} \\\\ -u_{ref1}\\end{bmatrix}^T \\dot{x})\n",
    "\\end{align*}\n",
    "\n",
    "Note that $u_{ref0}$ and $u_{ref1}$ are constants and therefore ommited in the case when they are not multiplying the decision variables. Doing so does not affect the solution of the optmiziation problem.  \n",
    "\n",
    "Next, the direction of the inequality sign needs to be changed.\n",
    "\n",
    "\\begin{align*}\n",
    "& \\begin{bmatrix} \\frac{2}{a^2}(x_0 - z_0) \\\\ \\frac{2}{b^2}(x_1 - z_1)\\end{bmatrix} \\dot{x} \\ge -(\\frac{(x_0-z_0)^2}{a^2} + \\frac{(x_1-z_1)^2}{b^2} - 1) \\\\\n",
    "\\equiv &\\begin{bmatrix} \\frac{2}{-a^2}(x_0 - z_0) \\\\ \\frac{-2}{b^2}(x_1 - z_1)\\end{bmatrix} \\dot{x} \\le (\\frac{(x_0-z_0)^2}{a^2} + \\frac{(x_1-z_1)^2}{b^2} - 1)\n",
    "\\end{align*}\n",
    "\n",
    "Finally we can transform (12) as,\n",
    "\\begin{align*}\n",
    "\\min_{u} \\quad & 2(\\frac{1}{2} \\dot{x}^T I_2 \\dot{x} + \\begin{bmatrix}-u_{ref0} \\\\ -u_{ref1}\\end{bmatrix}^T \\dot{x})\\\\\n",
    "\\textrm{s.t.} \\quad & \\begin{bmatrix} \\frac{-2}{a^2}(x_0 - z_0) \\\\ \\frac{-2}{b^2}(x_1 - z_1)\\end{bmatrix} \\dot{x} \\le (\\frac{(x_0-z_0)^2}{a^2} + \\frac{(x_1-z_1)^2}{b^2} - 1) \\\\\n",
    "...\n",
    "\\end{align*}\n",
    "\n",
    "While compairing above with a quadratic problem of the form,\n",
    "\\begin{align*}\n",
    "\\min \\quad & \\frac{1}{2}\\mathbf{x}^T P\\mathbf{x} + q^T\\mathbf{x} \\\\\n",
    "\\textrm{s.t.} \\quad & G\\mathbf{x} \\le h \\\\\n",
    "\\quad & A\\mathbf{x} = b \\tag{13}\n",
    "\\end{align*}\n",
    "We can see,\n",
    "$$ P = I_2$$\n",
    "$$ \\mathbf{x} = \\dot{x} = \\begin{bmatrix}u_0 \\\\ u_1\\end{bmatrix}$$\n",
    "$$ q = \\begin{bmatrix} -u_{ref0} \\\\  -u_{ref1} \\end{bmatrix} \\tag{14}$$\n",
    "$$ G = \\begin{bmatrix} \\frac{-2}{a^2}(x_0 - z_0) \\\\ \\frac{-2}{b^2}(x_1 - z_1)\\end{bmatrix} \\tag{15}$$\n",
    "$$ h = (\\frac{(x_0-z_0)^2}{a^2} + \\frac{(x_1-z_1)^2}{b^2} - 1) \\tag{16}$$"
   ],
   "cell_type": "markdown",
   "metadata": {}
  }
 ]
}