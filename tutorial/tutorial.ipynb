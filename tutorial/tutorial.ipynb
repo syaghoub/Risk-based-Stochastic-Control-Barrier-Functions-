{
 "metadata": {
  "language_info": {
   "codemirror_mode": {
    "name": "ipython",
    "version": 3
   },
   "file_extension": ".py",
   "mimetype": "text/x-python",
   "name": "python",
   "nbconvert_exporter": "python",
   "pygments_lexer": "ipython3",
   "version": "3.9.0-final"
  },
  "orig_nbformat": 2,
  "kernelspec": {
   "name": "python3",
   "display_name": "Python 3.9.0 64-bit",
   "metadata": {
    "interpreter": {
     "hash": "3e10c6c31fd8e2422ae900f52b8d0b8c41774139565ddc78c25ba92946178417"
    }
   }
  }
 },
 "nbformat": 4,
 "nbformat_minor": 2,
 "cells": [
  {
   "source": [
    "# CBF Tutorial\n",
    "### Authors: Bardh, Tom and Shakiba\n",
    "\n",
    "### In this notebook, we present a short introduction on Control Barrier Functions.\n",
    "\n",
    "First, let's start by defining a two-dimensional system, called **nimble_ant**, with the following dynamics: \n",
    "\n",
    "\\begin{align}\n",
    "  \\dot{x} &= \\begin{bmatrix}u_0 \\\\ u_1\\end{bmatrix} \\tag{1}\\\\\n",
    "\\end{align}\n",
    "\n",
    "Given an initial position \n",
    "\\begin{align*}\n",
    "x^{init} = \\begin{bmatrix} x^{init}_0 \\\\  x^{init}_1 \\end{bmatrix} \\tag{2}\\\\\n",
    "\\end{align*}\n",
    "our goal is to control this system to a goal location $x^{goal}$. However, the system should avoid certain areas in the workspace (more on this later). \n",
    "\n",
    "One way to solve this problem is to pose it as an optimization problem. Specifically, we would like to solve the following problem:\n",
    "\\begin{align*}\n",
    "\\min_{u} \\quad & ||u_{ref} - u||\\\\\n",
    "\\textrm{s.t.} \\quad & \\text{CBF constraints to be added later} \\tag{3}\\\\\n",
    "\\end{align*}\n",
    "So, we will try to minimize the distance between the decission variable $u$ and reference controller $u_{ref}$, while satisfying some constraints. For now, let us disregard the constraint and focus on designing a reference controller. \n",
    "\n",
    "### Reference controller\n",
    "\n",
    "We will define a very simple reference controller as follows\n",
    "\\begin{align*}\n",
    "u_{ref} = k \\cdot (x^{goal} - x) \\tag{4}\n",
    "\\end{align*}\n",
    "This is a two dimensional vector that takes the difference between the current system state (or location) and the goal location and multiply it with a gain factor $k$. This **simple** reference controller will take us from an initial location to the goal location. We can say it is a typical [proportional controller](https://en.wikipedia.org/wiki/Proportional_control). Next, we need to make sure that the system does not enter undesired states. \n",
    "\n",
    "### Control Barrier Function (CBF) as Constraints\n",
    "\n",
    "We assume that the undesired regions in the workspace can be defined with one or more [ellipses](https://en.wikipedia.org/wiki/Ellipse). In two dimensions, the region inside an ellypsis can be using the standard form with the following inequality\n",
    "\\begin{align*}\n",
    "\\frac{z^2_0}{a^2} + \\frac{z^2_1}{b^2}\\leq 1 \\tag{5}\n",
    "\\end{align*}\n",
    "where $z_0,z_1$ define the origin and $a,b$ define the major, minor axes of the ellipse, respectively. \n",
    "\n",
    "In our case, we would like to check whether our system is in the undesired region and therefore we modify the afforementined requirement \n",
    "\\begin{align*}\n",
    "B(x) = \\frac{(x_0-z_0)^2}{a^2} + \\frac{(x_1-z_1)^2}{b^2} - 1 \\tag{6}\n",
    "\\end{align*}\n",
    "\n",
    "CBFs are defined by the condition:\n",
    "\\begin{align}\n",
    "\\dot{B}(x) \\ge -\\alpha\\cdot(B(x)) \\tag{7}\n",
    "\\end{align}\n",
    "\n",
    "Where $\\dot{B}(x) = \\frac{\\partial{B}}{\\partial{t}}$ and $\\alpha$ is a positive real value. In this example we set $\\alpha=1$. $\\dot{B}(x)$ indicates how the distance of the system to the barrier changes with respect to time. \n",
    "\n",
    "So, in our formulation  $B(x) < 0$ indicates whether the current state is in a unsafe set.\n",
    "For a more detailed explanation of Eq. (7) See Proposition 2 in \"[Safety Verification of Hybrid Systems Using Barrier Certificates](http://web.mit.edu/~jadbabai/www/papers/hscc04_2.pdf)\".\n",
    "In Eq. (7), $B(x)$ indicates the distance between the state of the system and the unsafe set.\n",
    "We need to ensure that the rate of change is always bigger than the distance to the bad set by a factor $\\alpha$.\n",
    "In our case $\\alpha$ is one but in other problems it can be different.\n",
    "If this inequality holds, then the system is forward invariant. It will not enter the bad set.\n",
    "Next, we need to find a way to introduce our control input into this equation so that we can ensure that this inequality remains true. We do so through by subsituting $\\dot{B}(x)$ with an equivalent expression in terms of the control input. \n",
    "\n",
    "In order to calculate $\\dot{B}(x)$, we utilize the [chain rule](https://en.wikipedia.org/wiki/Chain_rule), which allows us to write\n",
    "\\begin{align*}\n",
    "\\dot{B}(x) = \\frac{\\partial{B}}{\\partial{x}} \\cdot \\frac{\\partial{x}}{\\partial{t}} \\tag{8}\n",
    "\\end{align*}\n",
    "\n",
    "Since $\\frac{\\partial{x}}{\\partial{t}} = \\dot{x}$, then\n",
    "\\begin{align*}\n",
    "\\dot{B}(x) = \\frac{\\partial{B}}{\\partial{x}} \\cdot \\dot{x} \\tag{9}\n",
    "\\end{align*}\n",
    "This we can easily solve by taking the derivative of $B(x)$ with respect to $x$\n",
    "\\begin{align*}\n",
    "\\frac{\\partial{B}}{\\partial{x}} = \\begin{bmatrix} \\frac{2}{a^2}(x_0 - z_0) \\\\ \\frac{2}{b^2}(x_1 - z_1)\\end{bmatrix}  \\tag{10}\n",
    "\\end{align*}\n",
    "(The expansion is [here](./derivativeB.ipnyb))\n",
    "\n",
    "Plugging this back in the original equation (7), since (9), (10), $\\alpha=1$, we get\n",
    "\n",
    "\\begin{align*}\n",
    "\\dot{B}(x) &\\ge -\\alpha\\cdot(B(x))\\\\\n",
    "\\equiv \\frac{\\partial{B}}{\\partial{x}} \\dot{x} &\\ge -\\alpha\\cdot(B(x))\\\\\n",
    "\\equiv \\begin{bmatrix} \\frac{2}{a^2}(x_0 - z_0) \\\\ \\frac{2}{b^2}(x_1 - z_1)\\end{bmatrix} \\dot{x} &\\ge -(\\frac{(x_0-z_0)^2}{a^2} + \\frac{(x_1-z_1)^2}{b^2} - 1) \\tag{11}\n",
    "\\end{align*}\n",
    "\n",
    "This will be used as a constraint for one ellipse. If there are additional ellipses in the workspace, we can add more CBFs in a similar fashion.\n",
    "\n",
    "### Posing the control problem as a quadratic program\n",
    "\n",
    "We can now combine the cost function with the constraints to form an optimization problem. \n",
    "\n",
    "\\begin{align*}\n",
    "\\min_{u} \\quad & ||u_{ref} - u||\\\\\n",
    "\\textrm{s.t.} \\quad & \\begin{bmatrix} \\frac{2}{a^2}(x_0 - z_0) \\\\ \\frac{2}{b^2}(x_1 - z_1)\\end{bmatrix} \\dot{x} \\ge -(\\frac{(x_0-z_0)^2}{a^2} + \\frac{(x_1-z_1)^2}{b^2} - 1) \\\\\n",
    "... \\tag{12}\n",
    "\\end{align*}\n",
    "\n",
    "This problem can be posed as a [quadratic problem](https://en.wikipedia.org/wiki/Quadratic_programming) of the form \n",
    "\n",
    "\\begin{align*}\n",
    "\\min \\quad & \\frac{1}{2}\\mathbf{x}^T P\\mathbf{x} + q^T\\mathbf{x} \\\\\n",
    "\\textrm{s.t.} \\quad & G\\mathbf{x} \\le h \\\\\n",
    "\\quad & A\\mathbf{x} = b \\tag{13}\n",
    "\\end{align*}\n",
    "\n",
    "Where $P = I_2$, $\\mathbf{x} = \\dot{x}$, the two-dimensional identity matrix and\n",
    "\n",
    "$ q = \\begin{bmatrix} -u_{ref0} \\\\  -u_{ref1} \\end{bmatrix} \\tag{14}$\n",
    "$ G = \\begin{bmatrix} \\frac{-2}{a^2}(x_0 - z_0) \\\\ \\frac{-2}{b^2}(x_1 - z_1)\\end{bmatrix} \\tag{15}$\n",
    "$ h = (\\frac{(x_0-z_0)^2}{a^2} + \\frac{(x_1-z_1)^2}{b^2} - 1) \\tag{16}$\n",
    "\n",
    "(The expansion is [here](./CBF2quadratic.ipnyb))\n",
    "\n",
    "Here, one of advantage of this methodology is that instance of controller is not needed, as we can see (14) referes only result of controller reference $u_{ref}$. In another word, the CBF can work as an observer in whole controll system.\n",
    "\n",
    "### Code implementation\n",
    "\n",
    "First, we import the necessary packages for our example. \n",
    "\n"
   ],
   "cell_type": "markdown",
   "metadata": {}
  },
  {
   "cell_type": "code",
   "execution_count": 8,
   "metadata": {},
   "outputs": [],
   "source": [
    "from sympy import symbols\n",
    "import numpy as np\n",
    "import matplotlib.pyplot as plt\n",
    "import control as control\n",
    "import cvxopt as cvxopt\n",
    "from cbflib import cbf, cbf_utils, sys_and_ctrl"
   ]
  },
  {
   "source": [
    "In cbflib, we have the [cbf.py](./cbflib/cbf.py), systems and controllers in [sys_and_ctrl](./cbflib/sys_and_ctrl.py), and sevearl utilities in [cbf_utils](./cbflib/cbf_utils.py). \n",
    "\n",
    "In [cbf.py](./cbflib/cbf.py) we define the CBF class, which enables us to define an instance of a CBF as well as compute the G and h matrices in the controller. \n",
    "\n",
    "In [sys_and_ctrl](./cbflib/sys_and_ctrl.py), we define systems and controllers for our examples including nimble_ant.\n",
    "\n"
   ],
   "cell_type": "markdown",
   "metadata": {}
  },
  {
   "source": [
    "We define the goal for the system, bad sets, and parameters for the controller"
   ],
   "cell_type": "markdown",
   "metadata": {}
  },
  {
   "cell_type": "code",
   "execution_count": 9,
   "metadata": {},
   "outputs": [],
   "source": [
    "# Robot Goal\n",
    "x_goal = np.array([5, 5])\n",
    "\n",
    "# Elipse format (x,y,rad_x,rad_y)\n",
    "bad_sets = cbf_utils.example(2)\n",
    "\n",
    "# Parameters for reference controller\n",
    "ctrl_param_k = [0.3, 0.3]"
   ]
  },
  {
   "source": [
    "We define the expression for the CBF, f(x) and g(x) for the dynamics of the system"
   ],
   "cell_type": "markdown",
   "metadata": {}
  },
  {
   "cell_type": "code",
   "execution_count": 10,
   "metadata": {},
   "outputs": [],
   "source": [
    "# Symbols and equations for the CBF\n",
    "x_0, x_1, z_0, z_1, a, b = symbols('x_0 x_1 z_0 z_1 a b')\n",
    "symbs = (x_0, x_1, z_0, z_1, a, b)\n",
    "B = ((x_0 - z_0)/a)**2 + ((x_1 - z_1)/b)**2 - 1\n",
    "\n",
    "# ! placeholders for more complex functions\n",
    "f, g = 1, 1\n",
    "\n",
    "# Initialize CBF\n",
    "my_CBF = cbf.CBF(B, f, g, (x_0, x_1), bad_sets, symbs)"
   ]
  },
  {
   "source": [
    "We also define simulation options and define the closed loop system using the control package. "
   ],
   "cell_type": "markdown",
   "metadata": {}
  },
  {
   "cell_type": "code",
   "execution_count": 11,
   "metadata": {},
   "outputs": [],
   "source": [
    "# Simulation settings\n",
    "T_max = 20\n",
    "n_samples = 100\n",
    "T = np.linspace(0, T_max, n_samples)\n",
    "\n",
    "# System definition using the control toolbox\n",
    "nimble_ant_sys = control.NonlinearIOSystem(\n",
    "    sys_and_ctrl.nimble_ant_f, None, inputs=('u_0', 'u_1'), outputs=('x_0', 'x_1'), dt=None,\n",
    "    states=('x_0', 'x_1'), name='nimble_ant_sys')\n",
    "\n",
    "nimble_ant_ctrl = control.NonlinearIOSystem(\n",
    "    None, sys_and_ctrl.nimble_ant_c, inputs=('x_0', 'x_1'), outputs=('u_0', 'u_1'), dt=None, name='nimble_ant_ctrl',\n",
    "    params={'x_goal': x_goal, 'bad_sets': bad_sets, 'ctrl_param_k': ctrl_param_k, 'CBF': my_CBF})\n",
    "\n",
    "nimble_ant_closed = control.InterconnectedSystem(\n",
    "    (nimble_ant_sys, nimble_ant_ctrl),       # systems\n",
    "    connections=(\n",
    "        ('nimble_ant_sys.u_0', 'nimble_ant_ctrl.u_0'),\n",
    "        ('nimble_ant_sys.u_1', 'nimble_ant_ctrl.u_1'),\n",
    "        ('nimble_ant_ctrl.x_0', 'nimble_ant_sys.x_0'),\n",
    "        ('nimble_ant_ctrl.x_1', 'nimble_ant_sys.x_1')\n",
    "    ),\n",
    "    outlist=('nimble_ant_sys.x_0', 'nimble_ant_sys.x_1')\n",
    ")\n"
   ]
  },
  {
   "source": [
    "Next, we define a grid of initial conditions for the system as follows"
   ],
   "cell_type": "markdown",
   "metadata": {}
  },
  {
   "cell_type": "code",
   "execution_count": 12,
   "metadata": {},
   "outputs": [],
   "source": [
    "\n",
    "# Initial conditions\n",
    "# min, max of x,y values for initial conditions\n",
    "min_x, min_y, max_x, max_y = 0, 0, 0.5, 0.5\n",
    "\n",
    "# number of initial conditions in each axis\n",
    "nx, ny = 3, 3\n",
    "\n",
    "# Vectors of initial conditions in each axis\n",
    "xx = np.linspace(min_x, max_x, nx)\n",
    "yy = np.linspace(min_y, max_y, ny)\n",
    "\n",
    "# Uncomment the following for specific intial conditions\n",
    "# xx = [0]\n",
    "# yy = [0]"
   ]
  },
  {
   "source": [
    "We simulate and plot the system. "
   ],
   "cell_type": "markdown",
   "metadata": {}
  },
  {
   "cell_type": "code",
   "execution_count": 13,
   "metadata": {},
   "outputs": [
    {
     "output_type": "stream",
     "name": "stdout",
     "text": [
      "Computing trajectories for initial conditions:\n",
      "x_0\t x_1\n",
      "0 \t 0 \t... Done\n"
     ]
    },
    {
     "output_type": "display_data",
     "data": {
      "text/plain": "<Figure size 432x288 with 1 Axes>",
      "image/svg+xml": "<?xml version=\"1.0\" encoding=\"utf-8\" standalone=\"no\"?>\r\n<!DOCTYPE svg PUBLIC \"-//W3C//DTD SVG 1.1//EN\"\r\n  \"http://www.w3.org/Graphics/SVG/1.1/DTD/svg11.dtd\">\r\n<!-- Created with matplotlib (https://matplotlib.org/) -->\r\n<svg height=\"252.317344pt\" version=\"1.1\" viewBox=\"0 0 365.74375 252.317344\" width=\"365.74375pt\" xmlns=\"http://www.w3.org/2000/svg\" xmlns:xlink=\"http://www.w3.org/1999/xlink\">\r\n <metadata>\r\n  <rdf:RDF xmlns:cc=\"http://creativecommons.org/ns#\" xmlns:dc=\"http://purl.org/dc/elements/1.1/\" xmlns:rdf=\"http://www.w3.org/1999/02/22-rdf-syntax-ns#\">\r\n   <cc:Work>\r\n    <dc:type rdf:resource=\"http://purl.org/dc/dcmitype/StillImage\"/>\r\n    <dc:date>2021-03-09T11:54:51.517542</dc:date>\r\n    <dc:format>image/svg+xml</dc:format>\r\n    <dc:creator>\r\n     <cc:Agent>\r\n      <dc:title>Matplotlib v3.3.3, https://matplotlib.org/</dc:title>\r\n     </cc:Agent>\r\n    </dc:creator>\r\n   </cc:Work>\r\n  </rdf:RDF>\r\n </metadata>\r\n <defs>\r\n  <style type=\"text/css\">*{stroke-linecap:butt;stroke-linejoin:round;}</style>\r\n </defs>\r\n <g id=\"figure_1\">\r\n  <g id=\"patch_1\">\r\n   <path d=\"M 0 252.317344 \r\nL 365.74375 252.317344 \r\nL 365.74375 0 \r\nL 0 0 \r\nz\r\n\" style=\"fill:none;\"/>\r\n  </g>\r\n  <g id=\"axes_1\">\r\n   <g id=\"patch_2\">\r\n    <path d=\"M 20.5625 228.439219 \r\nL 355.3625 228.439219 \r\nL 355.3625 10.999219 \r\nL 20.5625 10.999219 \r\nz\r\n\" style=\"fill:#ffffff;\"/>\r\n   </g>\r\n   <g id=\"patch_3\">\r\n    <path clip-path=\"url(#p31b3a96770)\" d=\"M 215.8625 264.679219 \r\nC 218.822167 264.679219 221.661011 257.042269 223.753812 243.450318 \r\nC 225.846612 229.858368 227.0225 211.421139 227.0225 192.199219 \r\nC 227.0225 172.977298 225.846612 154.54007 223.753812 140.948119 \r\nC 221.661011 127.356169 218.822167 119.719219 215.8625 119.719219 \r\nC 212.902833 119.719219 210.063989 127.356169 207.971188 140.948119 \r\nC 205.878388 154.54007 204.7025 172.977298 204.7025 192.199219 \r\nC 204.7025 211.421139 205.878388 229.858368 207.971188 243.450318 \r\nC 210.063989 257.042269 212.902833 264.679219 215.8625 264.679219 \r\nz\r\n\" style=\"fill:#ff0000;opacity:0.3;stroke:#ff0000;stroke-linejoin:miter;\"/>\r\n   </g>\r\n   <g id=\"patch_4\">\r\n    <path clip-path=\"url(#p31b3a96770)\" d=\"M 132.1625 145.087219 \r\nC 146.960833 145.087219 161.155057 144.323524 171.619058 142.964329 \r\nC 182.08306 141.605134 187.9625 139.761411 187.9625 137.839219 \r\nC 187.9625 135.917027 182.08306 134.073304 171.619058 132.714109 \r\nC 161.155057 131.354914 146.960833 130.591219 132.1625 130.591219 \r\nC 117.364167 130.591219 103.169943 131.354914 92.705942 132.714109 \r\nC 82.24194 134.073304 76.3625 135.917027 76.3625 137.839219 \r\nC 76.3625 139.761411 82.24194 141.605134 92.705942 142.964329 \r\nC 103.169943 144.323524 117.364167 145.087219 132.1625 145.087219 \r\nz\r\n\" style=\"fill:#ff0000;opacity:0.3;stroke:#ff0000;stroke-linejoin:miter;\"/>\r\n   </g>\r\n   <g id=\"patch_5\">\r\n    <path clip-path=\"url(#p31b3a96770)\" d=\"M 104.2625 210.319219 \r\nC 111.661666 210.319219 118.758778 208.409981 123.990779 205.011994 \r\nC 129.22278 201.614006 132.1625 197.004699 132.1625 192.199219 \r\nC 132.1625 187.393739 129.22278 182.784431 123.990779 179.386444 \r\nC 118.758778 175.988456 111.661666 174.079219 104.2625 174.079219 \r\nC 96.863334 174.079219 89.766222 175.988456 84.534221 179.386444 \r\nC 79.30222 182.784431 76.3625 187.393739 76.3625 192.199219 \r\nC 76.3625 197.004699 79.30222 201.614006 84.534221 205.011994 \r\nC 89.766222 208.409981 96.863334 210.319219 104.2625 210.319219 \r\nz\r\n\" style=\"fill:#ff0000;opacity:0.3;stroke:#ff0000;stroke-linejoin:miter;\"/>\r\n   </g>\r\n   <g id=\"patch_6\">\r\n    <path clip-path=\"url(#p31b3a96770)\" d=\"M 293.9825 50.863219 \r\nL 305.1425 50.863219 \r\nL 305.1425 43.615219 \r\nL 293.9825 43.615219 \r\nz\r\n\" style=\"fill:#008000;opacity:0.5;stroke:#008000;stroke-linejoin:miter;\"/>\r\n   </g>\r\n   <g id=\"matplotlib.axis_1\">\r\n    <g id=\"xtick_1\">\r\n     <g id=\"line2d_1\">\r\n      <defs>\r\n       <path d=\"M 0 0 \r\nL 0 3.5 \r\n\" id=\"me374d0e191\" style=\"stroke:#000000;stroke-width:0.8;\"/>\r\n      </defs>\r\n      <g>\r\n       <use style=\"stroke:#000000;stroke-width:0.8;\" x=\"20.5625\" xlink:href=\"#me374d0e191\" y=\"228.439219\"/>\r\n      </g>\r\n     </g>\r\n     <g id=\"text_1\">\r\n      <!-- 0 -->\r\n      <g transform=\"translate(17.38125 243.037656)scale(0.1 -0.1)\">\r\n       <defs>\r\n        <path d=\"M 31.78125 66.40625 \r\nQ 24.171875 66.40625 20.328125 58.90625 \r\nQ 16.5 51.421875 16.5 36.375 \r\nQ 16.5 21.390625 20.328125 13.890625 \r\nQ 24.171875 6.390625 31.78125 6.390625 \r\nQ 39.453125 6.390625 43.28125 13.890625 \r\nQ 47.125 21.390625 47.125 36.375 \r\nQ 47.125 51.421875 43.28125 58.90625 \r\nQ 39.453125 66.40625 31.78125 66.40625 \r\nz\r\nM 31.78125 74.21875 \r\nQ 44.046875 74.21875 50.515625 64.515625 \r\nQ 56.984375 54.828125 56.984375 36.375 \r\nQ 56.984375 17.96875 50.515625 8.265625 \r\nQ 44.046875 -1.421875 31.78125 -1.421875 \r\nQ 19.53125 -1.421875 13.0625 8.265625 \r\nQ 6.59375 17.96875 6.59375 36.375 \r\nQ 6.59375 54.828125 13.0625 64.515625 \r\nQ 19.53125 74.21875 31.78125 74.21875 \r\nz\r\n\" id=\"DejaVuSans-48\"/>\r\n       </defs>\r\n       <use xlink:href=\"#DejaVuSans-48\"/>\r\n      </g>\r\n     </g>\r\n    </g>\r\n    <g id=\"xtick_2\">\r\n     <g id=\"line2d_2\">\r\n      <g>\r\n       <use style=\"stroke:#000000;stroke-width:0.8;\" x=\"76.3625\" xlink:href=\"#me374d0e191\" y=\"228.439219\"/>\r\n      </g>\r\n     </g>\r\n     <g id=\"text_2\">\r\n      <!-- 1 -->\r\n      <g transform=\"translate(73.18125 243.037656)scale(0.1 -0.1)\">\r\n       <defs>\r\n        <path d=\"M 12.40625 8.296875 \r\nL 28.515625 8.296875 \r\nL 28.515625 63.921875 \r\nL 10.984375 60.40625 \r\nL 10.984375 69.390625 \r\nL 28.421875 72.90625 \r\nL 38.28125 72.90625 \r\nL 38.28125 8.296875 \r\nL 54.390625 8.296875 \r\nL 54.390625 0 \r\nL 12.40625 0 \r\nz\r\n\" id=\"DejaVuSans-49\"/>\r\n       </defs>\r\n       <use xlink:href=\"#DejaVuSans-49\"/>\r\n      </g>\r\n     </g>\r\n    </g>\r\n    <g id=\"xtick_3\">\r\n     <g id=\"line2d_3\">\r\n      <g>\r\n       <use style=\"stroke:#000000;stroke-width:0.8;\" x=\"132.1625\" xlink:href=\"#me374d0e191\" y=\"228.439219\"/>\r\n      </g>\r\n     </g>\r\n     <g id=\"text_3\">\r\n      <!-- 2 -->\r\n      <g transform=\"translate(128.98125 243.037656)scale(0.1 -0.1)\">\r\n       <defs>\r\n        <path d=\"M 19.1875 8.296875 \r\nL 53.609375 8.296875 \r\nL 53.609375 0 \r\nL 7.328125 0 \r\nL 7.328125 8.296875 \r\nQ 12.9375 14.109375 22.625 23.890625 \r\nQ 32.328125 33.6875 34.8125 36.53125 \r\nQ 39.546875 41.84375 41.421875 45.53125 \r\nQ 43.3125 49.21875 43.3125 52.78125 \r\nQ 43.3125 58.59375 39.234375 62.25 \r\nQ 35.15625 65.921875 28.609375 65.921875 \r\nQ 23.96875 65.921875 18.8125 64.3125 \r\nQ 13.671875 62.703125 7.8125 59.421875 \r\nL 7.8125 69.390625 \r\nQ 13.765625 71.78125 18.9375 73 \r\nQ 24.125 74.21875 28.421875 74.21875 \r\nQ 39.75 74.21875 46.484375 68.546875 \r\nQ 53.21875 62.890625 53.21875 53.421875 \r\nQ 53.21875 48.921875 51.53125 44.890625 \r\nQ 49.859375 40.875 45.40625 35.40625 \r\nQ 44.1875 33.984375 37.640625 27.21875 \r\nQ 31.109375 20.453125 19.1875 8.296875 \r\nz\r\n\" id=\"DejaVuSans-50\"/>\r\n       </defs>\r\n       <use xlink:href=\"#DejaVuSans-50\"/>\r\n      </g>\r\n     </g>\r\n    </g>\r\n    <g id=\"xtick_4\">\r\n     <g id=\"line2d_4\">\r\n      <g>\r\n       <use style=\"stroke:#000000;stroke-width:0.8;\" x=\"187.9625\" xlink:href=\"#me374d0e191\" y=\"228.439219\"/>\r\n      </g>\r\n     </g>\r\n     <g id=\"text_4\">\r\n      <!-- 3 -->\r\n      <g transform=\"translate(184.78125 243.037656)scale(0.1 -0.1)\">\r\n       <defs>\r\n        <path d=\"M 40.578125 39.3125 \r\nQ 47.65625 37.796875 51.625 33 \r\nQ 55.609375 28.21875 55.609375 21.1875 \r\nQ 55.609375 10.40625 48.1875 4.484375 \r\nQ 40.765625 -1.421875 27.09375 -1.421875 \r\nQ 22.515625 -1.421875 17.65625 -0.515625 \r\nQ 12.796875 0.390625 7.625 2.203125 \r\nL 7.625 11.71875 \r\nQ 11.71875 9.328125 16.59375 8.109375 \r\nQ 21.484375 6.890625 26.8125 6.890625 \r\nQ 36.078125 6.890625 40.9375 10.546875 \r\nQ 45.796875 14.203125 45.796875 21.1875 \r\nQ 45.796875 27.640625 41.28125 31.265625 \r\nQ 36.765625 34.90625 28.71875 34.90625 \r\nL 20.21875 34.90625 \r\nL 20.21875 43.015625 \r\nL 29.109375 43.015625 \r\nQ 36.375 43.015625 40.234375 45.921875 \r\nQ 44.09375 48.828125 44.09375 54.296875 \r\nQ 44.09375 59.90625 40.109375 62.90625 \r\nQ 36.140625 65.921875 28.71875 65.921875 \r\nQ 24.65625 65.921875 20.015625 65.03125 \r\nQ 15.375 64.15625 9.8125 62.3125 \r\nL 9.8125 71.09375 \r\nQ 15.4375 72.65625 20.34375 73.4375 \r\nQ 25.25 74.21875 29.59375 74.21875 \r\nQ 40.828125 74.21875 47.359375 69.109375 \r\nQ 53.90625 64.015625 53.90625 55.328125 \r\nQ 53.90625 49.265625 50.4375 45.09375 \r\nQ 46.96875 40.921875 40.578125 39.3125 \r\nz\r\n\" id=\"DejaVuSans-51\"/>\r\n       </defs>\r\n       <use xlink:href=\"#DejaVuSans-51\"/>\r\n      </g>\r\n     </g>\r\n    </g>\r\n    <g id=\"xtick_5\">\r\n     <g id=\"line2d_5\">\r\n      <g>\r\n       <use style=\"stroke:#000000;stroke-width:0.8;\" x=\"243.7625\" xlink:href=\"#me374d0e191\" y=\"228.439219\"/>\r\n      </g>\r\n     </g>\r\n     <g id=\"text_5\">\r\n      <!-- 4 -->\r\n      <g transform=\"translate(240.58125 243.037656)scale(0.1 -0.1)\">\r\n       <defs>\r\n        <path d=\"M 37.796875 64.3125 \r\nL 12.890625 25.390625 \r\nL 37.796875 25.390625 \r\nz\r\nM 35.203125 72.90625 \r\nL 47.609375 72.90625 \r\nL 47.609375 25.390625 \r\nL 58.015625 25.390625 \r\nL 58.015625 17.1875 \r\nL 47.609375 17.1875 \r\nL 47.609375 0 \r\nL 37.796875 0 \r\nL 37.796875 17.1875 \r\nL 4.890625 17.1875 \r\nL 4.890625 26.703125 \r\nz\r\n\" id=\"DejaVuSans-52\"/>\r\n       </defs>\r\n       <use xlink:href=\"#DejaVuSans-52\"/>\r\n      </g>\r\n     </g>\r\n    </g>\r\n    <g id=\"xtick_6\">\r\n     <g id=\"line2d_6\">\r\n      <g>\r\n       <use style=\"stroke:#000000;stroke-width:0.8;\" x=\"299.5625\" xlink:href=\"#me374d0e191\" y=\"228.439219\"/>\r\n      </g>\r\n     </g>\r\n     <g id=\"text_6\">\r\n      <!-- 5 -->\r\n      <g transform=\"translate(296.38125 243.037656)scale(0.1 -0.1)\">\r\n       <defs>\r\n        <path d=\"M 10.796875 72.90625 \r\nL 49.515625 72.90625 \r\nL 49.515625 64.59375 \r\nL 19.828125 64.59375 \r\nL 19.828125 46.734375 \r\nQ 21.96875 47.46875 24.109375 47.828125 \r\nQ 26.265625 48.1875 28.421875 48.1875 \r\nQ 40.625 48.1875 47.75 41.5 \r\nQ 54.890625 34.8125 54.890625 23.390625 \r\nQ 54.890625 11.625 47.5625 5.09375 \r\nQ 40.234375 -1.421875 26.90625 -1.421875 \r\nQ 22.3125 -1.421875 17.546875 -0.640625 \r\nQ 12.796875 0.140625 7.71875 1.703125 \r\nL 7.71875 11.625 \r\nQ 12.109375 9.234375 16.796875 8.0625 \r\nQ 21.484375 6.890625 26.703125 6.890625 \r\nQ 35.15625 6.890625 40.078125 11.328125 \r\nQ 45.015625 15.765625 45.015625 23.390625 \r\nQ 45.015625 31 40.078125 35.4375 \r\nQ 35.15625 39.890625 26.703125 39.890625 \r\nQ 22.75 39.890625 18.8125 39.015625 \r\nQ 14.890625 38.140625 10.796875 36.28125 \r\nz\r\n\" id=\"DejaVuSans-53\"/>\r\n       </defs>\r\n       <use xlink:href=\"#DejaVuSans-53\"/>\r\n      </g>\r\n     </g>\r\n    </g>\r\n    <g id=\"xtick_7\">\r\n     <g id=\"line2d_7\">\r\n      <g>\r\n       <use style=\"stroke:#000000;stroke-width:0.8;\" x=\"355.3625\" xlink:href=\"#me374d0e191\" y=\"228.439219\"/>\r\n      </g>\r\n     </g>\r\n     <g id=\"text_7\">\r\n      <!-- 6 -->\r\n      <g transform=\"translate(352.18125 243.037656)scale(0.1 -0.1)\">\r\n       <defs>\r\n        <path d=\"M 33.015625 40.375 \r\nQ 26.375 40.375 22.484375 35.828125 \r\nQ 18.609375 31.296875 18.609375 23.390625 \r\nQ 18.609375 15.53125 22.484375 10.953125 \r\nQ 26.375 6.390625 33.015625 6.390625 \r\nQ 39.65625 6.390625 43.53125 10.953125 \r\nQ 47.40625 15.53125 47.40625 23.390625 \r\nQ 47.40625 31.296875 43.53125 35.828125 \r\nQ 39.65625 40.375 33.015625 40.375 \r\nz\r\nM 52.59375 71.296875 \r\nL 52.59375 62.3125 \r\nQ 48.875 64.0625 45.09375 64.984375 \r\nQ 41.3125 65.921875 37.59375 65.921875 \r\nQ 27.828125 65.921875 22.671875 59.328125 \r\nQ 17.53125 52.734375 16.796875 39.40625 \r\nQ 19.671875 43.65625 24.015625 45.921875 \r\nQ 28.375 48.1875 33.59375 48.1875 \r\nQ 44.578125 48.1875 50.953125 41.515625 \r\nQ 57.328125 34.859375 57.328125 23.390625 \r\nQ 57.328125 12.15625 50.6875 5.359375 \r\nQ 44.046875 -1.421875 33.015625 -1.421875 \r\nQ 20.359375 -1.421875 13.671875 8.265625 \r\nQ 6.984375 17.96875 6.984375 36.375 \r\nQ 6.984375 53.65625 15.1875 63.9375 \r\nQ 23.390625 74.21875 37.203125 74.21875 \r\nQ 40.921875 74.21875 44.703125 73.484375 \r\nQ 48.484375 72.75 52.59375 71.296875 \r\nz\r\n\" id=\"DejaVuSans-54\"/>\r\n       </defs>\r\n       <use xlink:href=\"#DejaVuSans-54\"/>\r\n      </g>\r\n     </g>\r\n    </g>\r\n   </g>\r\n   <g id=\"matplotlib.axis_2\">\r\n    <g id=\"ytick_1\">\r\n     <g id=\"line2d_8\">\r\n      <defs>\r\n       <path d=\"M 0 0 \r\nL -3.5 0 \r\n\" id=\"m9fe6932fdf\" style=\"stroke:#000000;stroke-width:0.8;\"/>\r\n      </defs>\r\n      <g>\r\n       <use style=\"stroke:#000000;stroke-width:0.8;\" x=\"20.5625\" xlink:href=\"#m9fe6932fdf\" y=\"228.439219\"/>\r\n      </g>\r\n     </g>\r\n     <g id=\"text_8\">\r\n      <!-- 0 -->\r\n      <g transform=\"translate(7.2 232.238437)scale(0.1 -0.1)\">\r\n       <use xlink:href=\"#DejaVuSans-48\"/>\r\n      </g>\r\n     </g>\r\n    </g>\r\n    <g id=\"ytick_2\">\r\n     <g id=\"line2d_9\">\r\n      <g>\r\n       <use style=\"stroke:#000000;stroke-width:0.8;\" x=\"20.5625\" xlink:href=\"#m9fe6932fdf\" y=\"192.199219\"/>\r\n      </g>\r\n     </g>\r\n     <g id=\"text_9\">\r\n      <!-- 1 -->\r\n      <g transform=\"translate(7.2 195.998437)scale(0.1 -0.1)\">\r\n       <use xlink:href=\"#DejaVuSans-49\"/>\r\n      </g>\r\n     </g>\r\n    </g>\r\n    <g id=\"ytick_3\">\r\n     <g id=\"line2d_10\">\r\n      <g>\r\n       <use style=\"stroke:#000000;stroke-width:0.8;\" x=\"20.5625\" xlink:href=\"#m9fe6932fdf\" y=\"155.959219\"/>\r\n      </g>\r\n     </g>\r\n     <g id=\"text_10\">\r\n      <!-- 2 -->\r\n      <g transform=\"translate(7.2 159.758437)scale(0.1 -0.1)\">\r\n       <use xlink:href=\"#DejaVuSans-50\"/>\r\n      </g>\r\n     </g>\r\n    </g>\r\n    <g id=\"ytick_4\">\r\n     <g id=\"line2d_11\">\r\n      <g>\r\n       <use style=\"stroke:#000000;stroke-width:0.8;\" x=\"20.5625\" xlink:href=\"#m9fe6932fdf\" y=\"119.719219\"/>\r\n      </g>\r\n     </g>\r\n     <g id=\"text_11\">\r\n      <!-- 3 -->\r\n      <g transform=\"translate(7.2 123.518437)scale(0.1 -0.1)\">\r\n       <use xlink:href=\"#DejaVuSans-51\"/>\r\n      </g>\r\n     </g>\r\n    </g>\r\n    <g id=\"ytick_5\">\r\n     <g id=\"line2d_12\">\r\n      <g>\r\n       <use style=\"stroke:#000000;stroke-width:0.8;\" x=\"20.5625\" xlink:href=\"#m9fe6932fdf\" y=\"83.479219\"/>\r\n      </g>\r\n     </g>\r\n     <g id=\"text_12\">\r\n      <!-- 4 -->\r\n      <g transform=\"translate(7.2 87.278437)scale(0.1 -0.1)\">\r\n       <use xlink:href=\"#DejaVuSans-52\"/>\r\n      </g>\r\n     </g>\r\n    </g>\r\n    <g id=\"ytick_6\">\r\n     <g id=\"line2d_13\">\r\n      <g>\r\n       <use style=\"stroke:#000000;stroke-width:0.8;\" x=\"20.5625\" xlink:href=\"#m9fe6932fdf\" y=\"47.239219\"/>\r\n      </g>\r\n     </g>\r\n     <g id=\"text_13\">\r\n      <!-- 5 -->\r\n      <g transform=\"translate(7.2 51.038437)scale(0.1 -0.1)\">\r\n       <use xlink:href=\"#DejaVuSans-53\"/>\r\n      </g>\r\n     </g>\r\n    </g>\r\n    <g id=\"ytick_7\">\r\n     <g id=\"line2d_14\">\r\n      <g>\r\n       <use style=\"stroke:#000000;stroke-width:0.8;\" x=\"20.5625\" xlink:href=\"#m9fe6932fdf\" y=\"10.999219\"/>\r\n      </g>\r\n     </g>\r\n     <g id=\"text_14\">\r\n      <!-- 6 -->\r\n      <g transform=\"translate(7.2 14.798437)scale(0.1 -0.1)\">\r\n       <use xlink:href=\"#DejaVuSans-54\"/>\r\n      </g>\r\n     </g>\r\n    </g>\r\n   </g>\r\n   <g id=\"line2d_15\">\r\n    <path clip-path=\"url(#p31b3a96770)\" d=\"M 20.5625 228.439219 \r\n\" style=\"fill:none;stroke:#000000;stroke-linecap:square;stroke-width:1.5;\"/>\r\n    <defs>\r\n     <path d=\"M -1.5 1.5 \r\nL 1.5 -1.5 \r\nM -1.5 -1.5 \r\nL 1.5 1.5 \r\n\" id=\"m1526cecd88\" style=\"stroke:#000000;\"/>\r\n    </defs>\r\n    <g clip-path=\"url(#p31b3a96770)\">\r\n     <use style=\"stroke:#000000;\" x=\"20.5625\" xlink:href=\"#m1526cecd88\" y=\"228.439219\"/>\r\n    </g>\r\n   </g>\r\n   <g id=\"line2d_16\">\r\n    <path clip-path=\"url(#p31b3a96770)\" d=\"M 20.5625 228.439219 \r\nL 25.344189 222.538568 \r\nL 29.360576 216.530372 \r\nL 32.801979 210.175546 \r\nL 36.127274 203.460036 \r\nL 39.991088 197.023659 \r\nL 44.610729 191.324728 \r\nL 49.804225 186.205428 \r\nL 55.578531 181.592321 \r\nL 62.03115 177.471727 \r\nL 69.375758 173.816642 \r\nL 78.213052 170.591417 \r\nL 89.684825 167.769445 \r\nL 101.875749 165.245027 \r\nL 112.716333 162.926808 \r\nL 122.457183 160.804575 \r\nL 131.332722 158.859913 \r\nL 139.365583 157.070049 \r\nL 146.619839 155.418351 \r\nL 153.169394 153.890122 \r\nL 159.068815 152.468893 \r\nL 164.38809 151.143742 \r\nL 169.18686 149.898972 \r\nL 173.507384 148.725585 \r\nL 177.410725 147.609692 \r\nL 180.92486 146.538472 \r\nL 184.095355 145.499271 \r\nL 186.945298 144.446196 \r\nL 189.506827 143.349344 \r\nL 191.824595 142.196705 \r\nL 193.933947 140.948646 \r\nL 195.871165 139.100179 \r\nL 197.889728 133.771753 \r\nL 199.840006 128.539321 \r\nL 201.759038 123.577231 \r\nL 203.671458 118.87361 \r\nL 205.671285 114.399116 \r\nL 207.906636 110.148297 \r\nL 210.724172 106.095748 \r\nL 214.324024 102.387694 \r\nL 218.81045 99.033367 \r\nL 223.41478 95.931895 \r\nL 228.069349 93.079595 \r\nL 232.484246 90.405901 \r\nL 236.537107 87.882337 \r\nL 240.321336 85.508518 \r\nL 243.859661 83.265275 \r\nL 247.163348 81.148311 \r\nL 250.258738 79.15256 \r\nL 253.170348 77.271745 \r\nL 255.896734 75.504243 \r\nL 258.469571 73.837698 \r\nL 260.888141 72.269876 \r\nL 263.151297 70.796156 \r\nL 265.280947 69.410203 \r\nL 267.289088 68.106418 \r\nL 269.18772 66.879201 \r\nL 270.963323 65.72726 \r\nL 272.633008 64.644132 \r\nL 274.208114 63.624331 \r\nL 275.697328 62.662816 \r\nL 277.101487 61.757587 \r\nL 278.415397 60.908983 \r\nL 279.653868 60.109592 \r\nL 280.822929 59.355403 \r\nL 281.928612 58.642404 \r\nL 282.963558 57.974915 \r\nL 283.937087 57.346877 \r\nL 284.85463 56.754655 \r\nL 285.720541 56.195279 \r\nL 286.53275 55.670677 \r\nL 287.288573 55.183247 \r\nL 287.999026 54.724944 \r\nL 288.6677 54.293381 \r\nL 289.298187 53.886171 \r\nL 289.89408 53.500928 \r\nL 290.458969 53.135264 \r\nL 290.996447 52.786794 \r\nL 291.488593 52.468375 \r\nL 291.950094 52.169758 \r\nL 292.385073 51.888179 \r\nL 292.796073 51.621997 \r\nL 293.185635 51.369567 \r\nL 293.556301 51.129248 \r\nL 293.910613 50.899397 \r\nL 294.242852 50.683831 \r\nL 294.546969 50.486585 \r\nL 294.833781 50.300547 \r\nL 295.104865 50.124711 \r\nL 295.361804 49.958071 \r\nL 295.606177 49.799618 \r\nL 295.839563 49.648347 \r\nL 296.063543 49.50325 \r\nL 296.26746 49.371061 \r\nL 296.458974 49.246928 \r\nL 296.639775 49.129774 \r\nL 296.81076 49.019024 \r\nL 296.972825 48.914103 \r\nL 297.126869 48.814436 \r\nL 297.273787 48.719449 \r\n\" style=\"fill:none;stroke:#000080;stroke-linecap:square;stroke-width:1.5;\"/>\r\n    <defs>\r\n     <path d=\"M 0 0.5 \r\nC 0.132602 0.5 0.25979 0.447317 0.353553 0.353553 \r\nC 0.447317 0.25979 0.5 0.132602 0.5 0 \r\nC 0.5 -0.132602 0.447317 -0.25979 0.353553 -0.353553 \r\nC 0.25979 -0.447317 0.132602 -0.5 0 -0.5 \r\nC -0.132602 -0.5 -0.25979 -0.447317 -0.353553 -0.353553 \r\nC -0.447317 -0.25979 -0.5 -0.132602 -0.5 0 \r\nC -0.5 0.132602 -0.447317 0.25979 -0.353553 0.353553 \r\nC -0.25979 0.447317 -0.132602 0.5 0 0.5 \r\nz\r\n\" id=\"m2a7b217731\" style=\"stroke:#000080;\"/>\r\n    </defs>\r\n    <g clip-path=\"url(#p31b3a96770)\">\r\n     <use style=\"fill:#000080;stroke:#000080;\" x=\"20.5625\" xlink:href=\"#m2a7b217731\" y=\"228.439219\"/>\r\n     <use style=\"fill:#000080;stroke:#000080;\" x=\"25.344189\" xlink:href=\"#m2a7b217731\" y=\"222.538568\"/>\r\n     <use style=\"fill:#000080;stroke:#000080;\" x=\"29.360576\" xlink:href=\"#m2a7b217731\" y=\"216.530372\"/>\r\n     <use style=\"fill:#000080;stroke:#000080;\" x=\"32.801979\" xlink:href=\"#m2a7b217731\" y=\"210.175546\"/>\r\n     <use style=\"fill:#000080;stroke:#000080;\" x=\"36.127274\" xlink:href=\"#m2a7b217731\" y=\"203.460036\"/>\r\n     <use style=\"fill:#000080;stroke:#000080;\" x=\"39.991088\" xlink:href=\"#m2a7b217731\" y=\"197.023659\"/>\r\n     <use style=\"fill:#000080;stroke:#000080;\" x=\"44.610729\" xlink:href=\"#m2a7b217731\" y=\"191.324728\"/>\r\n     <use style=\"fill:#000080;stroke:#000080;\" x=\"49.804225\" xlink:href=\"#m2a7b217731\" y=\"186.205428\"/>\r\n     <use style=\"fill:#000080;stroke:#000080;\" x=\"55.578531\" xlink:href=\"#m2a7b217731\" y=\"181.592321\"/>\r\n     <use style=\"fill:#000080;stroke:#000080;\" x=\"62.03115\" xlink:href=\"#m2a7b217731\" y=\"177.471727\"/>\r\n     <use style=\"fill:#000080;stroke:#000080;\" x=\"69.375758\" xlink:href=\"#m2a7b217731\" y=\"173.816642\"/>\r\n     <use style=\"fill:#000080;stroke:#000080;\" x=\"78.213052\" xlink:href=\"#m2a7b217731\" y=\"170.591417\"/>\r\n     <use style=\"fill:#000080;stroke:#000080;\" x=\"89.684825\" xlink:href=\"#m2a7b217731\" y=\"167.769445\"/>\r\n     <use style=\"fill:#000080;stroke:#000080;\" x=\"101.875749\" xlink:href=\"#m2a7b217731\" y=\"165.245027\"/>\r\n     <use style=\"fill:#000080;stroke:#000080;\" x=\"112.716333\" xlink:href=\"#m2a7b217731\" y=\"162.926808\"/>\r\n     <use style=\"fill:#000080;stroke:#000080;\" x=\"122.457183\" xlink:href=\"#m2a7b217731\" y=\"160.804575\"/>\r\n     <use style=\"fill:#000080;stroke:#000080;\" x=\"131.332722\" xlink:href=\"#m2a7b217731\" y=\"158.859913\"/>\r\n     <use style=\"fill:#000080;stroke:#000080;\" x=\"139.365583\" xlink:href=\"#m2a7b217731\" y=\"157.070049\"/>\r\n     <use style=\"fill:#000080;stroke:#000080;\" x=\"146.619839\" xlink:href=\"#m2a7b217731\" y=\"155.418351\"/>\r\n     <use style=\"fill:#000080;stroke:#000080;\" x=\"153.169394\" xlink:href=\"#m2a7b217731\" y=\"153.890122\"/>\r\n     <use style=\"fill:#000080;stroke:#000080;\" x=\"159.068815\" xlink:href=\"#m2a7b217731\" y=\"152.468893\"/>\r\n     <use style=\"fill:#000080;stroke:#000080;\" x=\"164.38809\" xlink:href=\"#m2a7b217731\" y=\"151.143742\"/>\r\n     <use style=\"fill:#000080;stroke:#000080;\" x=\"169.18686\" xlink:href=\"#m2a7b217731\" y=\"149.898972\"/>\r\n     <use style=\"fill:#000080;stroke:#000080;\" x=\"173.507384\" xlink:href=\"#m2a7b217731\" y=\"148.725585\"/>\r\n     <use style=\"fill:#000080;stroke:#000080;\" x=\"177.410725\" xlink:href=\"#m2a7b217731\" y=\"147.609692\"/>\r\n     <use style=\"fill:#000080;stroke:#000080;\" x=\"180.92486\" xlink:href=\"#m2a7b217731\" y=\"146.538472\"/>\r\n     <use style=\"fill:#000080;stroke:#000080;\" x=\"184.095355\" xlink:href=\"#m2a7b217731\" y=\"145.499271\"/>\r\n     <use style=\"fill:#000080;stroke:#000080;\" x=\"186.945298\" xlink:href=\"#m2a7b217731\" y=\"144.446196\"/>\r\n     <use style=\"fill:#000080;stroke:#000080;\" x=\"189.506827\" xlink:href=\"#m2a7b217731\" y=\"143.349344\"/>\r\n     <use style=\"fill:#000080;stroke:#000080;\" x=\"191.824595\" xlink:href=\"#m2a7b217731\" y=\"142.196705\"/>\r\n     <use style=\"fill:#000080;stroke:#000080;\" x=\"193.933947\" xlink:href=\"#m2a7b217731\" y=\"140.948646\"/>\r\n     <use style=\"fill:#000080;stroke:#000080;\" x=\"195.871165\" xlink:href=\"#m2a7b217731\" y=\"139.100179\"/>\r\n     <use style=\"fill:#000080;stroke:#000080;\" x=\"197.889728\" xlink:href=\"#m2a7b217731\" y=\"133.771753\"/>\r\n     <use style=\"fill:#000080;stroke:#000080;\" x=\"199.840006\" xlink:href=\"#m2a7b217731\" y=\"128.539321\"/>\r\n     <use style=\"fill:#000080;stroke:#000080;\" x=\"201.759038\" xlink:href=\"#m2a7b217731\" y=\"123.577231\"/>\r\n     <use style=\"fill:#000080;stroke:#000080;\" x=\"203.671458\" xlink:href=\"#m2a7b217731\" y=\"118.87361\"/>\r\n     <use style=\"fill:#000080;stroke:#000080;\" x=\"205.671285\" xlink:href=\"#m2a7b217731\" y=\"114.399116\"/>\r\n     <use style=\"fill:#000080;stroke:#000080;\" x=\"207.906636\" xlink:href=\"#m2a7b217731\" y=\"110.148297\"/>\r\n     <use style=\"fill:#000080;stroke:#000080;\" x=\"210.724172\" xlink:href=\"#m2a7b217731\" y=\"106.095748\"/>\r\n     <use style=\"fill:#000080;stroke:#000080;\" x=\"214.324024\" xlink:href=\"#m2a7b217731\" y=\"102.387694\"/>\r\n     <use style=\"fill:#000080;stroke:#000080;\" x=\"218.81045\" xlink:href=\"#m2a7b217731\" y=\"99.033367\"/>\r\n     <use style=\"fill:#000080;stroke:#000080;\" x=\"223.41478\" xlink:href=\"#m2a7b217731\" y=\"95.931895\"/>\r\n     <use style=\"fill:#000080;stroke:#000080;\" x=\"228.069349\" xlink:href=\"#m2a7b217731\" y=\"93.079595\"/>\r\n     <use style=\"fill:#000080;stroke:#000080;\" x=\"232.484246\" xlink:href=\"#m2a7b217731\" y=\"90.405901\"/>\r\n     <use style=\"fill:#000080;stroke:#000080;\" x=\"236.537107\" xlink:href=\"#m2a7b217731\" y=\"87.882337\"/>\r\n     <use style=\"fill:#000080;stroke:#000080;\" x=\"240.321336\" xlink:href=\"#m2a7b217731\" y=\"85.508518\"/>\r\n     <use style=\"fill:#000080;stroke:#000080;\" x=\"243.859661\" xlink:href=\"#m2a7b217731\" y=\"83.265275\"/>\r\n     <use style=\"fill:#000080;stroke:#000080;\" x=\"247.163348\" xlink:href=\"#m2a7b217731\" y=\"81.148311\"/>\r\n     <use style=\"fill:#000080;stroke:#000080;\" x=\"250.258738\" xlink:href=\"#m2a7b217731\" y=\"79.15256\"/>\r\n     <use style=\"fill:#000080;stroke:#000080;\" x=\"253.170348\" xlink:href=\"#m2a7b217731\" y=\"77.271745\"/>\r\n     <use style=\"fill:#000080;stroke:#000080;\" x=\"255.896734\" xlink:href=\"#m2a7b217731\" y=\"75.504243\"/>\r\n     <use style=\"fill:#000080;stroke:#000080;\" x=\"258.469571\" xlink:href=\"#m2a7b217731\" y=\"73.837698\"/>\r\n     <use style=\"fill:#000080;stroke:#000080;\" x=\"260.888141\" xlink:href=\"#m2a7b217731\" y=\"72.269876\"/>\r\n     <use style=\"fill:#000080;stroke:#000080;\" x=\"263.151297\" xlink:href=\"#m2a7b217731\" y=\"70.796156\"/>\r\n     <use style=\"fill:#000080;stroke:#000080;\" x=\"265.280947\" xlink:href=\"#m2a7b217731\" y=\"69.410203\"/>\r\n     <use style=\"fill:#000080;stroke:#000080;\" x=\"267.289088\" xlink:href=\"#m2a7b217731\" y=\"68.106418\"/>\r\n     <use style=\"fill:#000080;stroke:#000080;\" x=\"269.18772\" xlink:href=\"#m2a7b217731\" y=\"66.879201\"/>\r\n     <use style=\"fill:#000080;stroke:#000080;\" x=\"270.963323\" xlink:href=\"#m2a7b217731\" y=\"65.72726\"/>\r\n     <use style=\"fill:#000080;stroke:#000080;\" x=\"272.633008\" xlink:href=\"#m2a7b217731\" y=\"64.644132\"/>\r\n     <use style=\"fill:#000080;stroke:#000080;\" x=\"274.208114\" xlink:href=\"#m2a7b217731\" y=\"63.624331\"/>\r\n     <use style=\"fill:#000080;stroke:#000080;\" x=\"275.697328\" xlink:href=\"#m2a7b217731\" y=\"62.662816\"/>\r\n     <use style=\"fill:#000080;stroke:#000080;\" x=\"277.101487\" xlink:href=\"#m2a7b217731\" y=\"61.757587\"/>\r\n     <use style=\"fill:#000080;stroke:#000080;\" x=\"278.415397\" xlink:href=\"#m2a7b217731\" y=\"60.908983\"/>\r\n     <use style=\"fill:#000080;stroke:#000080;\" x=\"279.653868\" xlink:href=\"#m2a7b217731\" y=\"60.109592\"/>\r\n     <use style=\"fill:#000080;stroke:#000080;\" x=\"280.822929\" xlink:href=\"#m2a7b217731\" y=\"59.355403\"/>\r\n     <use style=\"fill:#000080;stroke:#000080;\" x=\"281.928612\" xlink:href=\"#m2a7b217731\" y=\"58.642404\"/>\r\n     <use style=\"fill:#000080;stroke:#000080;\" x=\"282.963558\" xlink:href=\"#m2a7b217731\" y=\"57.974915\"/>\r\n     <use style=\"fill:#000080;stroke:#000080;\" x=\"283.937087\" xlink:href=\"#m2a7b217731\" y=\"57.346877\"/>\r\n     <use style=\"fill:#000080;stroke:#000080;\" x=\"284.85463\" xlink:href=\"#m2a7b217731\" y=\"56.754655\"/>\r\n     <use style=\"fill:#000080;stroke:#000080;\" x=\"285.720541\" xlink:href=\"#m2a7b217731\" y=\"56.195279\"/>\r\n     <use style=\"fill:#000080;stroke:#000080;\" x=\"286.53275\" xlink:href=\"#m2a7b217731\" y=\"55.670677\"/>\r\n     <use style=\"fill:#000080;stroke:#000080;\" x=\"287.288573\" xlink:href=\"#m2a7b217731\" y=\"55.183247\"/>\r\n     <use style=\"fill:#000080;stroke:#000080;\" x=\"287.999026\" xlink:href=\"#m2a7b217731\" y=\"54.724944\"/>\r\n     <use style=\"fill:#000080;stroke:#000080;\" x=\"288.6677\" xlink:href=\"#m2a7b217731\" y=\"54.293381\"/>\r\n     <use style=\"fill:#000080;stroke:#000080;\" x=\"289.298187\" xlink:href=\"#m2a7b217731\" y=\"53.886171\"/>\r\n     <use style=\"fill:#000080;stroke:#000080;\" x=\"289.89408\" xlink:href=\"#m2a7b217731\" y=\"53.500928\"/>\r\n     <use style=\"fill:#000080;stroke:#000080;\" x=\"290.458969\" xlink:href=\"#m2a7b217731\" y=\"53.135264\"/>\r\n     <use style=\"fill:#000080;stroke:#000080;\" x=\"290.996447\" xlink:href=\"#m2a7b217731\" y=\"52.786794\"/>\r\n     <use style=\"fill:#000080;stroke:#000080;\" x=\"291.488593\" xlink:href=\"#m2a7b217731\" y=\"52.468375\"/>\r\n     <use style=\"fill:#000080;stroke:#000080;\" x=\"291.950094\" xlink:href=\"#m2a7b217731\" y=\"52.169758\"/>\r\n     <use style=\"fill:#000080;stroke:#000080;\" x=\"292.385073\" xlink:href=\"#m2a7b217731\" y=\"51.888179\"/>\r\n     <use style=\"fill:#000080;stroke:#000080;\" x=\"292.796073\" xlink:href=\"#m2a7b217731\" y=\"51.621997\"/>\r\n     <use style=\"fill:#000080;stroke:#000080;\" x=\"293.185635\" xlink:href=\"#m2a7b217731\" y=\"51.369567\"/>\r\n     <use style=\"fill:#000080;stroke:#000080;\" x=\"293.556301\" xlink:href=\"#m2a7b217731\" y=\"51.129248\"/>\r\n     <use style=\"fill:#000080;stroke:#000080;\" x=\"293.910613\" xlink:href=\"#m2a7b217731\" y=\"50.899397\"/>\r\n     <use style=\"fill:#000080;stroke:#000080;\" x=\"294.242852\" xlink:href=\"#m2a7b217731\" y=\"50.683831\"/>\r\n     <use style=\"fill:#000080;stroke:#000080;\" x=\"294.546969\" xlink:href=\"#m2a7b217731\" y=\"50.486585\"/>\r\n     <use style=\"fill:#000080;stroke:#000080;\" x=\"294.833781\" xlink:href=\"#m2a7b217731\" y=\"50.300547\"/>\r\n     <use style=\"fill:#000080;stroke:#000080;\" x=\"295.104865\" xlink:href=\"#m2a7b217731\" y=\"50.124711\"/>\r\n     <use style=\"fill:#000080;stroke:#000080;\" x=\"295.361804\" xlink:href=\"#m2a7b217731\" y=\"49.958071\"/>\r\n     <use style=\"fill:#000080;stroke:#000080;\" x=\"295.606177\" xlink:href=\"#m2a7b217731\" y=\"49.799618\"/>\r\n     <use style=\"fill:#000080;stroke:#000080;\" x=\"295.839563\" xlink:href=\"#m2a7b217731\" y=\"49.648347\"/>\r\n     <use style=\"fill:#000080;stroke:#000080;\" x=\"296.063543\" xlink:href=\"#m2a7b217731\" y=\"49.50325\"/>\r\n     <use style=\"fill:#000080;stroke:#000080;\" x=\"296.26746\" xlink:href=\"#m2a7b217731\" y=\"49.371061\"/>\r\n     <use style=\"fill:#000080;stroke:#000080;\" x=\"296.458974\" xlink:href=\"#m2a7b217731\" y=\"49.246928\"/>\r\n     <use style=\"fill:#000080;stroke:#000080;\" x=\"296.639775\" xlink:href=\"#m2a7b217731\" y=\"49.129774\"/>\r\n     <use style=\"fill:#000080;stroke:#000080;\" x=\"296.81076\" xlink:href=\"#m2a7b217731\" y=\"49.019024\"/>\r\n     <use style=\"fill:#000080;stroke:#000080;\" x=\"296.972825\" xlink:href=\"#m2a7b217731\" y=\"48.914103\"/>\r\n     <use style=\"fill:#000080;stroke:#000080;\" x=\"297.126869\" xlink:href=\"#m2a7b217731\" y=\"48.814436\"/>\r\n     <use style=\"fill:#000080;stroke:#000080;\" x=\"297.273787\" xlink:href=\"#m2a7b217731\" y=\"48.719449\"/>\r\n    </g>\r\n   </g>\r\n   <g id=\"patch_7\">\r\n    <path d=\"M 20.5625 228.439219 \r\nL 20.5625 10.999219 \r\n\" style=\"fill:none;stroke:#000000;stroke-linecap:square;stroke-linejoin:miter;stroke-width:0.8;\"/>\r\n   </g>\r\n   <g id=\"patch_8\">\r\n    <path d=\"M 20.5625 228.439219 \r\nL 355.3625 228.439219 \r\n\" style=\"fill:none;stroke:#000000;stroke-linecap:square;stroke-linejoin:miter;stroke-width:0.8;\"/>\r\n   </g>\r\n  </g>\r\n </g>\r\n <defs>\r\n  <clipPath id=\"p31b3a96770\">\r\n   <rect height=\"217.44\" width=\"334.8\" x=\"20.5625\" y=\"10.999219\"/>\r\n  </clipPath>\r\n </defs>\r\n</svg>\r\n",
      "image/png": "[encoded data removed]"
     },
     "metadata": {
      "needs_background": "light"
     }
    }
   ],
   "source": [
    "# Disable cvxopt optimiztaion output\n",
    "cvxopt.solvers.options['show_progress'] = False\n",
    "cvxopt.solvers.options['max_iter'] = 1000\n",
    "\n",
    "# Plot\n",
    "fig, ax = plt.subplots()\n",
    "jet = plt.get_cmap('jet')\n",
    "colors = iter(jet(np.linspace(0, 1, len(xx)*len(yy))))\n",
    "\n",
    "# Loop through initial conditions and simulate system\n",
    "print('Computing trajectories for initial conditions:')\n",
    "print('x_0\\t x_1')\n",
    "for idxi, i in enumerate(xx):\n",
    "    for idxj, j in enumerate(yy):\n",
    "        # If initial condition is inside the bad set, skip it.\n",
    "        bool_val = 0\n",
    "        curr_bs = []\n",
    "        for idxk, k in enumerate(bad_sets):\n",
    "            curr_bs = bad_sets[idxk]\n",
    "            if cbf_utils.is_inside_ellipse([i, j], bad_sets[idxk]):\n",
    "                print('Skip (Invalid):\\t', i, j)\n",
    "                bool_val = 1\n",
    "        if bool_val == 1:\n",
    "            continue\n",
    "\n",
    "        print(round(i, 2), '\\t', round(j, 2), \"\\t... \", end=\"\", flush=True)\n",
    "        x_0 = np.array([i, j])\n",
    "\n",
    "        # Compute output on the nimble ant system for given initial conditions and timesteps T\n",
    "        t, y, x = control.input_output_response(sys=nimble_ant_closed, T=T, U=0, X0=[\n",
    "                                                i, j], return_x=True, method='BDF')\n",
    "\n",
    "        # Plot initial conditions and path of system\n",
    "        plt.plot(i, j, 'x-', markersize=3, color=[0, 0, 0, 1])\n",
    "        plt.plot(x[0], x[1], 'o-', markersize=1,\n",
    "                 color=next(colors, [1, 1, 1, 1]))\n",
    "\n",
    "        print(\"Done\")\n",
    "\n",
    "ax = cbf_utils.plot_cbf_elements(ax, bad_sets, x_goal)\n",
    "\n",
    "plt.xlim(0, 6)\n",
    "plt.ylim(0, 6)\n",
    "plt.gca().spines['top'].set_visible(False)\n",
    "plt.gca().spines['right'].set_visible(False)\n",
    "\n",
    "plt.show()\n"
   ]
  }
 ]
}